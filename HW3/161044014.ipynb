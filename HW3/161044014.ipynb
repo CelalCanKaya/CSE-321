{
 "cells": [
  {
   "cell_type": "markdown",
   "metadata": {},
   "source": [
    "# PART1                                                                                                    "
   ]
  },
  {
   "cell_type": "code",
   "execution_count": 25,
   "metadata": {},
   "outputs": [],
   "source": [
    "#Added one more line to graph_data.xls for my implementation.I added that file to my zip.Please use that graph_data.xls file otherwise my code wont work.\n",
    "\n",
    "from xlrd import open_workbook   #Library for read .xls file\n",
    "\n",
    "def fillDict():  #Read datas from .xls file and add them to dictionary\n",
    "\n",
    "    dict = {}\n",
    "\n",
    "    book = open_workbook('Graph_data.xls')  #Open graph_data.xls\n",
    "    sheet = book.sheet_by_index(0)   #Sheet number 0\n",
    "    for i in range(3, sheet.nrows):  #From 4th row to last row\n",
    "        fRow = sheet.cell(i, 0)   #Row i, Col 0 content\n",
    "        sRow = sheet.cell(i, 1)  #Row i, Col 1 content\n",
    "        if fRow.value in dict.keys():   \n",
    "            dict[fRow.value].append(sRow.value)\n",
    "        else:\n",
    "            dict[fRow.value] = [sRow.value]\n",
    "\n",
    "\n",
    "    return dict\n",
    "\n",
    "def rootDict():  #Read datas from .xls file and add them to dictionary\n",
    "\n",
    "\n",
    "    book = open_workbook('Graph_data.xls')  #Open graph_data.xls\n",
    "    sheet = book.sheet_by_index(0)   #Sheet number 0\n",
    "    root = sheet.cell(0, 1).value  #Row 0, Col 1 content\n",
    "\n",
    "\n",
    "    return int(root)\n",
    "\n",
    "\n",
    "\n",
    "def BFS(graph, root):\n",
    "    \n",
    "    visited = []\n",
    "    result = \"\"\n",
    "    \n",
    "    for i in range(len(graph)):    #Initialize array by filling False\n",
    "        visited.append(False)\n",
    "            \n",
    "    queue = []     \n",
    "    queue.append(root)   #Add first element to queue\n",
    "    visited[root-1] = True    #First element is visited, turned it to True\n",
    "\n",
    "    while queue:   #Loop till queue is not empty\n",
    "        \n",
    "        curr = queue.pop(0)  #Pop from queue\n",
    "        result = result + str(curr) + \"->\"\n",
    "\n",
    "        for i in graph[curr]: #Edges from currentNode\n",
    "            if i!=\"\":\n",
    "                if visited[int(i)-1] == False:  #If its not visited yet \n",
    "                    queue.append(i)  #Add it to queue\n",
    "                    visited[int(i)-1] = True  #And marked it True\n",
    "    \n",
    "    print(result)\n",
    "    \n",
    "    \n",
    "    \n",
    "def DFS(graph, root):\n",
    "    \n",
    "    visited = []\n",
    "    \n",
    "    for i in range(len(graph)):  #Initialize array by filling False\n",
    "        visited.append(False)\n",
    "        \n",
    "    DFSHelper(graph, root, visited)   #Call the helper funct\n",
    "    \n",
    "    \n",
    "\n",
    "def DFSHelper(graph, curr, visited):\n",
    "    \n",
    "    visited[int(curr)-1] = True   #Mark the current element as True\n",
    "    print(str(curr) + \"->\", end=\"\")\n",
    "    \n",
    "    for i in graph[curr]:\n",
    "        if i!=\"\":\n",
    "            if visited[int(i)-1] == False:   #If its not visited yet\n",
    "                DFSHelper(graph, i, visited)   #Recursion"
   ]
  },
  {
   "cell_type": "markdown",
   "metadata": {},
   "source": [
    "Time Complexity: O(V+E) - (V = Vertex, E = Edges)"
   ]
  },
  {
   "cell_type": "code",
   "execution_count": 26,
   "metadata": {},
   "outputs": [
    {
     "name": "stdout",
     "output_type": "stream",
     "text": [
      "BFS: 1->2.0->3.0->4.0->5.0->8.0->6.0->9.0->10.0->7.0->\n",
      "DFS: 1->2.0->4.0->5.0->6.0->7.0->8.0->9.0->10.0->3.0->"
     ]
    }
   ],
   "source": [
    "print(\"BFS: \", end=\"\")\n",
    "BFS(fillDict(), rootDict())\n",
    "print(\"DFS: \", end=\"\")\n",
    "DFS(fillDict(), rootDict())"
   ]
  },
  {
   "cell_type": "markdown",
   "metadata": {},
   "source": [
    "# PART2"
   ]
  },
  {
   "cell_type": "code",
   "execution_count": 27,
   "metadata": {},
   "outputs": [],
   "source": [
    "def algo2(m, n):\n",
    "    currPlayer = \"First\"\n",
    "    while(n>0):\n",
    "        if(n<=m):               #If n is less than m, that means thats the last move for the game and current player will wins.\n",
    "            return currPlayer + \" Will win\"\n",
    "        if(n%(m+1)>0):      #If n mod (m+1) greater than 0, current player needs to take n mod (m+1) chips from the pile.\n",
    "            n=n-n%(m+1)\n",
    "        else: #If n mod (m+1) is 0, current players move wont affect the result.Therefore, i assumed he took 1 chip from the pile. You can change it up to m.\n",
    "            n=n-1     \n",
    "        if(currPlayer == \"First\"):  #Change Turn\n",
    "            currPlayer = \"Second\"\n",
    "        else:   #Change Turn\n",
    "            currPlayer = \"First\"\n",
    "        "
   ]
  },
  {
   "cell_type": "markdown",
   "metadata": {},
   "source": [
    "Time Complexity:\n",
    "    If the both players took 1 chip from the pile in their turn for whole game (m==2), it will be the our worst case. Therefore, loop will be executed 'n' times at most.So the time complexity is = O(n)"
   ]
  },
  {
   "cell_type": "code",
   "execution_count": 28,
   "metadata": {},
   "outputs": [
    {
     "name": "stdout",
     "output_type": "stream",
     "text": [
      "First Will win\n",
      "Second Will win\n",
      "First Will win\n",
      "First Will win\n",
      "Second Will win\n",
      "First Will win\n"
     ]
    }
   ],
   "source": [
    "#PART2 TEST CASES\n",
    "\n",
    "print(algo2(15, 15))\n",
    "print(algo2(14, 15))\n",
    "print(algo2(13, 15))\n",
    "print(algo2(3, 5))\n",
    "print(algo2(2, 6))\n",
    "print(algo2(3, 30))"
   ]
  },
  {
   "cell_type": "markdown",
   "metadata": {},
   "source": [
    "# PART3"
   ]
  },
  {
   "cell_type": "code",
   "execution_count": 29,
   "metadata": {},
   "outputs": [],
   "source": [
    "def algo3(arr, lowerBound, upperBound):\n",
    "    middle = (lowerBound + upperBound) // 2   #Find the middle index\n",
    "    if(lowerBound == upperBound and arr[middle]!=middle):  #If the array has only 1 element and its not equal to its index thats meant false\n",
    "        print(False)\n",
    "    elif(arr[middle]==middle):   # If the index equals to content\n",
    "        print(True)\n",
    "    elif(arr[middle]<middle):   # If index lower than content, that means finding the a[i]==i is impossible on left subarray \n",
    "        algo3(arr, middle+1, upperBound)\n",
    "    else:   # If index lower than content, that means finding the a[i]==i is impossible on right subarray \n",
    "        algo3(arr, lowerBound, middle)\n",
    "        "
   ]
  },
  {
   "cell_type": "markdown",
   "metadata": {},
   "source": [
    "Time Complexity: Binary search used in this algorithm. Every recursive call the size divided to 2. Therefore, the time complexity is O(logn)"
   ]
  },
  {
   "cell_type": "code",
   "execution_count": 30,
   "metadata": {},
   "outputs": [
    {
     "name": "stdout",
     "output_type": "stream",
     "text": [
      "True\n",
      "False\n",
      "True\n",
      "True\n"
     ]
    }
   ],
   "source": [
    "#PART3 TEST CASES\n",
    "\n",
    "\n",
    "arr = [0, 1, 2, 3, 4, 5]\n",
    "arr2 = [-1, 3, 5, 6, 7, 10]\n",
    "arr3 = [0, 3, 5, 8, 11, 26]\n",
    "arr4 = [-1, -2, -3, -4, 4, 7]\n",
    "\n",
    "\n",
    "algo3(arr, 0, len(arr)-1)\n",
    "algo3(arr2, 0, len(arr)-1)\n",
    "algo3(arr3, 0, len(arr)-1)\n",
    "algo3(arr4, 0, len(arr)-1)\n"
   ]
  },
  {
   "cell_type": "markdown",
   "metadata": {},
   "source": [
    "# PART4"
   ]
  },
  {
   "cell_type": "code",
   "execution_count": 31,
   "metadata": {},
   "outputs": [],
   "source": [
    "def maxCrossingArraySum(arr):   #If the contigous subarray crossing from middle element \n",
    "    sum = 0\n",
    "    middle = (len(arr)-1) // 2  # Find the middle elemnt\n",
    "    leftSum = arr[middle]\n",
    "    \n",
    "    for i in range(middle, -1, -1):   # Find the maximum sum of contiguous subset starting from the rightmost element.\n",
    "        sum = sum + arr[i]\n",
    "        if(sum > leftSum):\n",
    "            leftSum = sum\n",
    "    \n",
    "    sum=0\n",
    "    rightSum = arr[middle+1]\n",
    "    for i in range(middle+1, len(arr)):  #Find the maximum sum of contiguous subset starting from the leftmost element.\n",
    "        sum = sum + arr[i]\n",
    "        if(sum > rightSum):\n",
    "            rightSum = sum\n",
    "            \n",
    "    return leftSum + rightSum\n",
    "\n",
    "def maxSubArraySum(arr):\n",
    "    if(len(arr)==1):\n",
    "        return arr[0]\n",
    "    middle = (len(arr)-1) // 2  #Find the middle element\n",
    "    return max(maxSubArraySum(arr[0:middle+1]),   #Find the maximum of these\n",
    "               maxSubArraySum(arr[(middle+1):(len(arr))]),\n",
    "               maxCrossingArraySum(arr))"
   ]
  },
  {
   "cell_type": "markdown",
   "metadata": {},
   "source": [
    "Time Complexity: We made 2 recursive calls and one function call. Functions complexity is O(n). Therefore our time complexity formula is T(n) = 2T(n/2)+O(n)\n",
    "\n",
    "According to master theorem :   a=2 b=2 d=1  a=b^d => O(n^d logn) => O(nlogn)"
   ]
  },
  {
   "cell_type": "code",
   "execution_count": 32,
   "metadata": {},
   "outputs": [
    {
     "name": "stdout",
     "output_type": "stream",
     "text": [
      "18\n",
      "0\n",
      "14\n"
     ]
    }
   ],
   "source": [
    "#PART4 TEST CASES\n",
    "\n",
    "\n",
    "print(maxSubArraySum([7, 2, 6, 2, -6, 7, -4, 4]))\n",
    "print(maxSubArraySum([0, -1, -6, -2, -6, -7, -4, -4]))\n",
    "print(maxSubArraySum([5, -6, 6, 7, -6, 7, -4, 3]))"
   ]
  },
  {
   "cell_type": "markdown",
   "metadata": {},
   "source": [
    "# PART5"
   ]
  },
  {
   "cell_type": "code",
   "execution_count": 33,
   "metadata": {},
   "outputs": [],
   "source": [
    "def algo5(string, pattern, dict, words, end):\n",
    "    string=string.lower()   #Lowered all chars on string\n",
    "    if(string==pattern==\"\"):  #If string and pattern both empty that means pattern is valid\n",
    "        print(\"True\")\n",
    "    elif((bool(string) & bool(not pattern)) or (bool(not string) & bool(pattern))):  #If string is empty but pattern not or pattern is empty but string is not.That means pattern is not valid.\n",
    "        print(\"False\")\n",
    "    elif(string[:end] in dict.keys()):  #If string is in our dictionary\n",
    "        if(dict.get(string[:end]) != pattern[:1]):  #And It didnt matched with our pattern value that means pattern is not valid\n",
    "            print(\"False\")\n",
    "        else:\n",
    "            algo5(string[end:], pattern[1:], dict, words, 0)  #Recursive call with rest of the string and pattern\n",
    "    elif(string[:end] in words):\n",
    "        dict[string[:end]] = pattern[:1]  # Add to dictionary\n",
    "        algo5(string[end:], pattern[1:], dict, words, 0)   #Recursive call with rest of the string and pattern\n",
    "    else:\n",
    "        algo5(string, pattern, dict, words, end+1)  #Recursive call for find the word in list\n"
   ]
  },
  {
   "cell_type": "markdown",
   "metadata": {},
   "source": [
    "Time Complexity: There is possible 3 recursive calls but only one will be executed on calls and number of recursive calls belongs to length of string or pattern.And at every recursive calls only 1 char is changing.Therefore, the time complexity will be O(n)."
   ]
  },
  {
   "cell_type": "code",
   "execution_count": 34,
   "metadata": {},
   "outputs": [
    {
     "name": "stdout",
     "output_type": "stream",
     "text": [
      "False\n",
      "False\n",
      "True\n",
      "False\n",
      "False\n",
      "False\n"
     ]
    }
   ],
   "source": [
    "#PART5 TEST CASES\n",
    "\n",
    "words = [\"to\", \"be\", \"or\", \"not\"]   #String can be created only with these words otherwise it wont work well or it will give error\n",
    "\n",
    "\n",
    "algo5(\"Tobeornottobe\", \"ABCDEF\", {}, words, 1)\n",
    "algo5(\"Tobeornottobe\", \"ABCDABG\", {}, words, 1)\n",
    "algo5(\"Tobeornottobe\", \"ABCDAB\", {}, words, 1)\n",
    "algo5(\"Tobeornottobe\", \"AAAAA\", {}, words, 1)\n",
    "algo5(\"Tobeornottobe\", \"ABCDA\", {}, words, 1)\n",
    "algo5(\"Tobeortobe\", \"ABCDA\", {}, words, 1)"
   ]
  }
 ],
 "metadata": {
  "kernelspec": {
   "display_name": "Python 3",
   "language": "python",
   "name": "python3"
  },
  "language_info": {
   "codemirror_mode": {
    "name": "ipython",
    "version": 3
   },
   "file_extension": ".py",
   "mimetype": "text/x-python",
   "name": "python",
   "nbconvert_exporter": "python",
   "pygments_lexer": "ipython3",
   "version": "3.7.0"
  }
 },
 "nbformat": 4,
 "nbformat_minor": 2
}
